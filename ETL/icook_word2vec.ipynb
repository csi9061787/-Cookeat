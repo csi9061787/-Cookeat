{
 "cells": [
  {
   "cell_type": "code",
   "execution_count": 1,
   "id": "d046e916",
   "metadata": {},
   "outputs": [],
   "source": [
    "import pandas as pd\n",
    "import jieba\n",
    "import re\n",
    "import cn2an"
   ]
  },
  {
   "cell_type": "code",
   "execution_count": 2,
   "id": "7a3921c5",
   "metadata": {},
   "outputs": [],
   "source": [
    "df = pd.read_csv('./icook_sort.csv')"
   ]
  },
  {
   "cell_type": "code",
   "execution_count": 3,
   "id": "c1590251",
   "metadata": {},
   "outputs": [
    {
     "data": {
      "text/html": [
       "<div>\n",
       "<style scoped>\n",
       "    .dataframe tbody tr th:only-of-type {\n",
       "        vertical-align: middle;\n",
       "    }\n",
       "\n",
       "    .dataframe tbody tr th {\n",
       "        vertical-align: top;\n",
       "    }\n",
       "\n",
       "    .dataframe thead th {\n",
       "        text-align: right;\n",
       "    }\n",
       "</style>\n",
       "<table border=\"1\" class=\"dataframe\">\n",
       "  <thead>\n",
       "    <tr style=\"text-align: right;\">\n",
       "      <th></th>\n",
       "      <th>_id</th>\n",
       "      <th>RecipeID</th>\n",
       "      <th>CategoryName</th>\n",
       "      <th>SubCategoryID</th>\n",
       "      <th>SubCategoryName</th>\n",
       "      <th>RecipeName</th>\n",
       "      <th>Description</th>\n",
       "      <th>AuthorID</th>\n",
       "      <th>Author</th>\n",
       "      <th>Servings</th>\n",
       "      <th>CookingTime</th>\n",
       "      <th>Ingredient</th>\n",
       "      <th>CookingSteps</th>\n",
       "      <th>LikeStat</th>\n",
       "      <th>Datetime</th>\n",
       "      <th>Preview</th>\n",
       "      <th>URL</th>\n",
       "      <th>Ingredient_Pro</th>\n",
       "    </tr>\n",
       "  </thead>\n",
       "  <tbody>\n",
       "    <tr>\n",
       "      <th>0</th>\n",
       "      <td>60646cc365cd68e35c01e814</td>\n",
       "      <td>170303</td>\n",
       "      <td>家常菜色</td>\n",
       "      <td>['104', '602']</td>\n",
       "      <td>['烤肉', '中秋料理']</td>\n",
       "      <td>綜合雞肉串燒</td>\n",
       "      <td>用平底鍋或烤箱就能完成的雞肉串燒，其中照燒烤肉醬只要幾種材料組合，不必擔心市售烤肉醬有過多添...</td>\n",
       "      <td>100002279834418</td>\n",
       "      <td>胖仙女</td>\n",
       "      <td>4人份</td>\n",
       "      <td>45分鐘</td>\n",
       "      <td>{'去骨雞腿': '4片', '起士明太子醬': '適量', '蔥白': '適量', '檸檬...</td>\n",
       "      <td>['1. 雞腿肉切小塊的同時，切去皮及多餘的脂肪，取其中2/3的雞肉，加入所有的醃料拌勻，醃...</td>\n",
       "      <td>662</td>\n",
       "      <td>2016-09-11</td>\n",
       "      <td>2.4 萬 瀏覽</td>\n",
       "      <td>https://icook.tw/recipes/170303</td>\n",
       "      <td>{'去骨雞腿': ['4', '片'], '起士明太子醬': ['1', '適量'], '蔥...</td>\n",
       "    </tr>\n",
       "    <tr>\n",
       "      <th>1</th>\n",
       "      <td>60646cc365cd68e35c01e815</td>\n",
       "      <td>169048</td>\n",
       "      <td>家常菜色</td>\n",
       "      <td>['104', '77']</td>\n",
       "      <td>['烤肉', '宵夜']</td>\n",
       "      <td>燒烤味增秋葵透抽捲</td>\n",
       "      <td>秋葵正當季，適逢中秋節（烤肉節）腳步漸漸接近，來道『烤味增秋葵透抽』吧！\\n簡單備料，有彈性...</td>\n",
       "      <td>charminglydia</td>\n",
       "      <td>懶廚房</td>\n",
       "      <td>2人份</td>\n",
       "      <td>20分鐘</td>\n",
       "      <td>{'透抽': '1尾', '黃秋葵': '6個', '味增燒烤醬': '適量', '白芝麻'...</td>\n",
       "      <td>['1. 食材大集合。', '2. 黃秋葵先在鹽上滾一滾，如此讓表面絨毛軟化，較好入口。',...</td>\n",
       "      <td>675</td>\n",
       "      <td>2016-09-01</td>\n",
       "      <td>1.7 萬 瀏覽</td>\n",
       "      <td>https://icook.tw/recipes/169048</td>\n",
       "      <td>{'透抽': ['1', '尾'], '黃秋葵': ['6', '個'], '味增燒烤醬':...</td>\n",
       "    </tr>\n",
       "    <tr>\n",
       "      <th>2</th>\n",
       "      <td>60646cc365cd68e35c01e816</td>\n",
       "      <td>155271</td>\n",
       "      <td>家常菜色</td>\n",
       "      <td>['104', '77', '602']</td>\n",
       "      <td>['烤肉', '宵夜', '中秋料理']</td>\n",
       "      <td>沙嗲烤雞肉串</td>\n",
       "      <td>這個充滿東南亞風味的沙嗲烤雞串，用沙嗲醬醃雞肉，然後放入烤箱烤，這可令雞肉更嫰滑多汁。再加上...</td>\n",
       "      <td>MrsPsKitchen</td>\n",
       "      <td>Mrs P's Kitchen</td>\n",
       "      <td>4人份</td>\n",
       "      <td>45分鐘</td>\n",
       "      <td>{'雞肉': '600克', '沙嗲醬': '1大匙', '醬油': '1小匙', '糖':...</td>\n",
       "      <td>['1. 將雞肉切小塊，然後用醃料醃雞肉最少一個小時', '2. 將竹籤浸在熱水5分鐘，這可...</td>\n",
       "      <td>1,669</td>\n",
       "      <td>2016-06-02</td>\n",
       "      <td>3.3 萬 瀏覽</td>\n",
       "      <td>https://icook.tw/recipes/155271</td>\n",
       "      <td>{'雞肉': ['600', '克'], '沙嗲醬': ['1', '大匙'], '醬油':...</td>\n",
       "    </tr>\n",
       "    <tr>\n",
       "      <th>3</th>\n",
       "      <td>60646cc365cd68e35c01e817</td>\n",
       "      <td>90086</td>\n",
       "      <td>家常菜色</td>\n",
       "      <td>['104', '602']</td>\n",
       "      <td>['烤肉', '中秋料理']</td>\n",
       "      <td>甜柿烤肉串</td>\n",
       "      <td>霜降吃柿子！甜柿營養豐富，卻不適合空腹吃。與肉類搭配，解油膩又清爽。簡單做法，最適合週末小派對！</td>\n",
       "      <td>jj5colorkitchen</td>\n",
       "      <td>jj5色廚</td>\n",
       "      <td>3人份</td>\n",
       "      <td>30分鐘</td>\n",
       "      <td>{'火鍋白肉片': '6-7 片', '甜柿': '1 顆', '百里香': '適量', '...</td>\n",
       "      <td>['1. 這種豬肉片就是平常酸菜白肉鍋用的白肉片，等於沒薰過的培根肉，形狀規則，油脂豐富，比...</td>\n",
       "      <td>671</td>\n",
       "      <td>2014-10-25</td>\n",
       "      <td>1.8 萬 瀏覽</td>\n",
       "      <td>https://icook.tw/recipes/90086</td>\n",
       "      <td>{'火鍋白肉片': ['6-7', '片'], '甜柿': ['1', '顆'], '百里香...</td>\n",
       "    </tr>\n",
       "    <tr>\n",
       "      <th>4</th>\n",
       "      <td>60646cc365cd68e35c01e818</td>\n",
       "      <td>337797</td>\n",
       "      <td>家常菜色</td>\n",
       "      <td>['104', '61']</td>\n",
       "      <td>['烤肉', '韓式']</td>\n",
       "      <td>韓式烤肉飯</td>\n",
       "      <td>百吃不膩的韓式烤肉飯，保證讓人胃口大開！無論配麵、配飯都很搭。 作法超級簡單！適合料理初學者...</td>\n",
       "      <td>1f2cb7b4bee5e7d2</td>\n",
       "      <td>幸福餐桌</td>\n",
       "      <td>2人份</td>\n",
       "      <td>45分鐘</td>\n",
       "      <td>{'沙朗牛肉片': '400克', '蒜': '3瓣', '洋蔥': '1顆', '蘋果':...</td>\n",
       "      <td>['1. 以刀背將牛肉片敲打鬆軟', '2. 牛肉片切成小塊狀', '3. 將蒜、奇異果、蘋...</td>\n",
       "      <td>53</td>\n",
       "      <td>2020-05-23</td>\n",
       "      <td>8,026  瀏覽</td>\n",
       "      <td>https://icook.tw/recipes/337797</td>\n",
       "      <td>{'沙朗牛肉片': ['400', '克'], '蒜': ['3', '瓣'], '洋蔥':...</td>\n",
       "    </tr>\n",
       "  </tbody>\n",
       "</table>\n",
       "</div>"
      ],
      "text/plain": [
       "                        _id  RecipeID CategoryName         SubCategoryID  \\\n",
       "0  60646cc365cd68e35c01e814    170303         家常菜色        ['104', '602']   \n",
       "1  60646cc365cd68e35c01e815    169048         家常菜色         ['104', '77']   \n",
       "2  60646cc365cd68e35c01e816    155271         家常菜色  ['104', '77', '602']   \n",
       "3  60646cc365cd68e35c01e817     90086         家常菜色        ['104', '602']   \n",
       "4  60646cc365cd68e35c01e818    337797         家常菜色         ['104', '61']   \n",
       "\n",
       "        SubCategoryName RecipeName  \\\n",
       "0        ['烤肉', '中秋料理']     綜合雞肉串燒   \n",
       "1          ['烤肉', '宵夜']  燒烤味增秋葵透抽捲   \n",
       "2  ['烤肉', '宵夜', '中秋料理']     沙嗲烤雞肉串   \n",
       "3        ['烤肉', '中秋料理']      甜柿烤肉串   \n",
       "4          ['烤肉', '韓式']      韓式烤肉飯   \n",
       "\n",
       "                                         Description          AuthorID  \\\n",
       "0  用平底鍋或烤箱就能完成的雞肉串燒，其中照燒烤肉醬只要幾種材料組合，不必擔心市售烤肉醬有過多添...   100002279834418   \n",
       "1  秋葵正當季，適逢中秋節（烤肉節）腳步漸漸接近，來道『烤味增秋葵透抽』吧！\\n簡單備料，有彈性...     charminglydia   \n",
       "2  這個充滿東南亞風味的沙嗲烤雞串，用沙嗲醬醃雞肉，然後放入烤箱烤，這可令雞肉更嫰滑多汁。再加上...      MrsPsKitchen   \n",
       "3   霜降吃柿子！甜柿營養豐富，卻不適合空腹吃。與肉類搭配，解油膩又清爽。簡單做法，最適合週末小派對！   jj5colorkitchen   \n",
       "4  百吃不膩的韓式烤肉飯，保證讓人胃口大開！無論配麵、配飯都很搭。 作法超級簡單！適合料理初學者...  1f2cb7b4bee5e7d2   \n",
       "\n",
       "            Author Servings CookingTime  \\\n",
       "0              胖仙女      4人份        45分鐘   \n",
       "1              懶廚房      2人份        20分鐘   \n",
       "2  Mrs P's Kitchen      4人份        45分鐘   \n",
       "3            jj5色廚      3人份        30分鐘   \n",
       "4             幸福餐桌      2人份        45分鐘   \n",
       "\n",
       "                                          Ingredient  \\\n",
       "0  {'去骨雞腿': '4片', '起士明太子醬': '適量', '蔥白': '適量', '檸檬...   \n",
       "1  {'透抽': '1尾', '黃秋葵': '6個', '味增燒烤醬': '適量', '白芝麻'...   \n",
       "2  {'雞肉': '600克', '沙嗲醬': '1大匙', '醬油': '1小匙', '糖':...   \n",
       "3  {'火鍋白肉片': '6-7 片', '甜柿': '1 顆', '百里香': '適量', '...   \n",
       "4  {'沙朗牛肉片': '400克', '蒜': '3瓣', '洋蔥': '1顆', '蘋果':...   \n",
       "\n",
       "                                        CookingSteps LikeStat    Datetime  \\\n",
       "0  ['1. 雞腿肉切小塊的同時，切去皮及多餘的脂肪，取其中2/3的雞肉，加入所有的醃料拌勻，醃...      662  2016-09-11   \n",
       "1  ['1. 食材大集合。', '2. 黃秋葵先在鹽上滾一滾，如此讓表面絨毛軟化，較好入口。',...      675  2016-09-01   \n",
       "2  ['1. 將雞肉切小塊，然後用醃料醃雞肉最少一個小時', '2. 將竹籤浸在熱水5分鐘，這可...    1,669  2016-06-02   \n",
       "3  ['1. 這種豬肉片就是平常酸菜白肉鍋用的白肉片，等於沒薰過的培根肉，形狀規則，油脂豐富，比...      671  2014-10-25   \n",
       "4  ['1. 以刀背將牛肉片敲打鬆軟', '2. 牛肉片切成小塊狀', '3. 將蒜、奇異果、蘋...       53  2020-05-23   \n",
       "\n",
       "     Preview                              URL  \\\n",
       "0   2.4 萬 瀏覽  https://icook.tw/recipes/170303   \n",
       "1   1.7 萬 瀏覽  https://icook.tw/recipes/169048   \n",
       "2   3.3 萬 瀏覽  https://icook.tw/recipes/155271   \n",
       "3   1.8 萬 瀏覽   https://icook.tw/recipes/90086   \n",
       "4  8,026  瀏覽  https://icook.tw/recipes/337797   \n",
       "\n",
       "                                      Ingredient_Pro  \n",
       "0  {'去骨雞腿': ['4', '片'], '起士明太子醬': ['1', '適量'], '蔥...  \n",
       "1  {'透抽': ['1', '尾'], '黃秋葵': ['6', '個'], '味增燒烤醬':...  \n",
       "2  {'雞肉': ['600', '克'], '沙嗲醬': ['1', '大匙'], '醬油':...  \n",
       "3  {'火鍋白肉片': ['6-7', '片'], '甜柿': ['1', '顆'], '百里香...  \n",
       "4  {'沙朗牛肉片': ['400', '克'], '蒜': ['3', '瓣'], '洋蔥':...  "
      ]
     },
     "execution_count": 3,
     "metadata": {},
     "output_type": "execute_result"
    }
   ],
   "source": [
    "df.head()"
   ]
  },
  {
   "cell_type": "code",
   "execution_count": 4,
   "id": "248bbcfc",
   "metadata": {},
   "outputs": [],
   "source": [
    "# 去除個欄位空值資料\n",
    "df_word2vec = df.dropna()"
   ]
  },
  {
   "cell_type": "code",
   "execution_count": 5,
   "id": "a83172e9",
   "metadata": {},
   "outputs": [],
   "source": [
    "# 匯入大量詞庫字典\n",
    "jieba.set_dictionary('jieba_data/dict.txt')"
   ]
  },
  {
   "cell_type": "code",
   "execution_count": 6,
   "id": "be1abbda",
   "metadata": {},
   "outputs": [],
   "source": [
    "def strQ2B(s):\n",
    "    \"\"\"把字串全形轉半形\"\"\"\n",
    "    rstring = \"\"\n",
    "    for uchar in s:\n",
    "        u_code = ord(uchar)\n",
    "        if u_code == 12288:  # 全形空格直接轉換\n",
    "            u_code = 32\n",
    "        elif 65281 <= u_code <= 65374:  # 全形字元（除空格）根據關係轉化\n",
    "            u_code -= 65248\n",
    "        rstring += chr(u_code)\n",
    "    return rstring"
   ]
  },
  {
   "cell_type": "code",
   "execution_count": 7,
   "id": "f04e4ee3",
   "metadata": {},
   "outputs": [
    {
     "data": {
      "text/plain": [
       "['啊', '阿', '哎', '哎呀', '哎喲', '唉', '俺', '有點', '一直', '俺們']"
      ]
     },
     "execution_count": 7,
     "metadata": {},
     "output_type": "execute_result"
    }
   ],
   "source": [
    "# 匯入停用字典\n",
    "with open('./jieba_data/chinese_sw.txt', 'r', encoding='utf-8') as f:\n",
    "    stop_words_list = f.read().split('\\n')\n",
    "stop_words_list[:10]"
   ]
  },
  {
   "cell_type": "code",
   "execution_count": 8,
   "id": "355d9248",
   "metadata": {},
   "outputs": [],
   "source": [
    "#針對Ingredient 做清洗\n",
    "\n",
    "for Ingredients in df_word2vec['Ingredient']:\n",
    "    tmpList = []\n",
    "    for Ingredient in eval(Ingredients).keys():\n",
    "        \n",
    "        # 將文字全形轉半形\n",
    "        Ingredient = strQ2B(Ingredient)\n",
    "        \n",
    "        # 針對文字使用正規表達式做整理 (第一次)\n",
    "        Ingredient = re.sub(r'(\\(.*\\))', '', Ingredient) # 有括號內的文字刪除\n",
    "        Ingredient = re.sub(r'(【.*】)', '', Ingredient) # 有括號內的文字刪除\n",
    "        Ingredient = re.sub(r'[\\W+]', '', Ingredient)  # 將非文數字的符號刪除\n",
    "        Ingredient = re.sub(r'[\\W+]', '', Ingredient)  # 將非文數字的符號刪除\n",
    "        Ingredient = re.sub(r'[a-zA-Z]', '', Ingredient) # 將英文字刪除\n",
    "        Ingredient = re.sub(r'[1-9]', '', Ingredient) # 將數字刪除\n",
    "        tmpList.append(Ingredient)\n",
    "    WordString = ' '.join(tmpList)\n",
    "    with open('./word2vec_data/icook_Ingredient_seg.txt', 'a', encoding='utf-8') as f:\n",
    "        f.write(WordString + '\\n')\n",
    "        \n",
    "\n",
    "\n"
   ]
  },
  {
   "cell_type": "code",
   "execution_count": 9,
   "id": "64a109f3",
   "metadata": {},
   "outputs": [
    {
     "name": "stderr",
     "output_type": "stream",
     "text": [
      "Building prefix dict from C:\\Users\\CEB10201\\PycharmProjects\\Python_Recipe_ETL\\jieba_data\\dict.txt ...\n",
      "Loading model from cache C:\\Users\\CEB10201\\AppData\\Local\\Temp\\jieba.u8d2bce68ea74a61e4827369d82e5dd51.cache\n",
      "Loading model cost 0.560 seconds.\n",
      "Prefix dict has been built successfully.\n"
     ]
    },
    {
     "name": "stdout",
     "output_type": "stream",
     "text": [
      "WARN: 输入的数据不在转化范围内：٩！\n",
      "WARN: 输入的数据不在转化范围内：٩！\n",
      "WARN: 输入的数据不在转化范围内：٩！\n",
      "WARN: 输入的数据不在转化范围内：٩！\n",
      "WARN: 超出数据范围，最长支持 16 位\n",
      "WARN: 输入的数据不在转化范围内：๑！\n",
      "WARN: 输入的数据不在转化范围内：๑！\n",
      "WARN: 输入的数据不在转化范围内：٩！\n"
     ]
    }
   ],
   "source": [
    "# 針對 CookingStep 做清洗\n",
    "\n",
    "for CookingSteps in df_word2vec['CookingSteps']:\n",
    "    tmpList = []\n",
    "    for EachStep in eval(CookingSteps):  # 原字串類別轉回字典\n",
    "        \n",
    "        # 將文字全形轉半形\n",
    "        EachStep = strQ2B(EachStep)\n",
    "        \n",
    "        # 針對文字使用正規表達式做整理 (第一次)\n",
    "        EachStep = re.sub(r'(^\\d. )', '', EachStep) # 將步驟 1. 2. 3. ....前面的數字順序刪除\n",
    "        EachStep = re.sub(r'(\\(.*\\))', '', EachStep) # 有括號內的文字刪除\n",
    "        \n",
    "        # 將阿拉伯數字轉換成漢字數字 (EX. 4 => 四)\n",
    "        EachStep = cn2an.transform(EachStep, \"an2cn\")\n",
    "        \n",
    "        # 針對文字使用正規表達式做整理 (第二次)\n",
    "        EachStep = re.sub(r'[\\W+]', '', EachStep)  # 將非文數字的符號刪除\n",
    "        EachStep = re.sub(r'[a-zA-Z]', '', EachStep) # 將英文字刪除\n",
    "        \n",
    "        # Jieba 斷詞\n",
    "        EachStepWords = jieba.lcut(EachStep)\n",
    "        \n",
    "        # 對每個斷詞做停用字的篩選\n",
    "        UserfulWords = []       \n",
    "        for EachStepWord in EachStepWords:\n",
    "            if EachStepWord not in stop_words_list:\n",
    "                UserfulWords.append(EachStepWord)\n",
    "\n",
    "        EachStepWordsString = ' '.join(UserfulWords) # 每個食譜每個步驟所段的詞轉化成字串\n",
    "        tmpList.append(EachStepWordsString)          # 每個食譜每個步驟所段的詞放入List\n",
    "    StepsWordString = ' '.join(tmpList)              # 將每個食譜所有步驟的 List 轉化成字串\n",
    "    with open('./word2vec_data/icook_CookingStep_seg.txt', 'a', encoding='utf-8') as f:\n",
    "        f.write(StepsWordString + '\\n')\n",
    "   \n",
    "     "
   ]
  },
  {
   "cell_type": "code",
   "execution_count": 10,
   "id": "6ddab389",
   "metadata": {},
   "outputs": [
    {
     "name": "stdout",
     "output_type": "stream",
     "text": [
      "WARN: 输入的数据不在转化范围内：٩！\n",
      "WARN: 输入的数据不在转化范围内：٩！\n",
      "WARN: 输入的数据不在转化范围内：٩！\n",
      "WARN: 输入的数据不在转化范围内：٩！\n",
      "WARN: 输入的数据不在转化范围内：٩！\n",
      "WARN: 输入的数据不在转化范围内：۶！\n",
      "WARN: 输入的数据不在转化范围内：٩！\n",
      "WARN: 输入的数据不在转化范围内：٩！\n",
      "WARN: 输入的数据不在转化范围内：๑！\n",
      "WARN: 输入的数据不在转化范围内：๑！\n",
      "WARN: 输入的数据不在转化范围内：٩！\n",
      "WARN: 输入的数据不在转化范围内：๑！\n",
      "WARN: 输入的数据不在转化范围内：੭！\n",
      "WARN: 输入的数据不在转化范围内：٩！\n",
      "WARN: 输入的数据不在转化范围内：٩！\n"
     ]
    }
   ],
   "source": [
    "# 針對 Description 做清洗\n",
    "\n",
    "for Description in df_word2vec['Description']:\n",
    "\n",
    "    # 將文字全形轉半形\n",
    "    Description = strQ2B(Description)\n",
    "\n",
    "    # 針對文字使用正規表達式做整理 (第一次)\n",
    "    Description = re.sub(r'(\\(.*\\))', '', Description) # 有括號內的文字刪除\n",
    "\n",
    "    # 將阿拉伯數字轉換成漢字數字 (EX. 4 => 四)\n",
    "    Description = cn2an.transform(Description, \"an2cn\")\n",
    "\n",
    "    # 針對文字使用正規表達式做整理 (第二次)\n",
    "    Description = re.sub(r'[\\W+]', '', Description)    # 將非文數字的符號刪除\n",
    "    Description = re.sub(r'[a-zA-Z]', '', Description) # 將英文字刪除\n",
    "\n",
    "    # Jieba 斷詞\n",
    "    WordsList = jieba.lcut(Description)\n",
    "    \n",
    "    # 對每個斷詞做停用字的篩選\n",
    "    UserfulWords = []\n",
    "    for EachWord in WordsList:\n",
    "        if EachWord not in stop_words_list:\n",
    "            UserfulWords.append(EachWord)\n",
    "            \n",
    "    WordsString = ' '.join(UserfulWords)      \n",
    "    with open('./word2vec_data/icook_Description_seg.txt', 'a', encoding='utf-8') as f:\n",
    "        f.write(WordsString + '\\n')\n",
    "\n",
    "       \n"
   ]
  },
  {
   "cell_type": "code",
   "execution_count": 1,
   "id": "2f4d45c2",
   "metadata": {},
   "outputs": [
    {
     "name": "stderr",
     "output_type": "stream",
     "text": [
      "c:\\users\\ceb10201\\pycharmprojects\\python_recipe_etl\\venv\\lib\\site-packages\\gensim\\similarities\\__init__.py:15: UserWarning: The gensim.similarities.levenshtein submodule is disabled, because the optional Levenshtein package <https://pypi.org/project/python-Levenshtein/> is unavailable. Install Levenhstein (e.g. `pip install python-Levenshtein`) to suppress this warning.\n",
      "  warnings.warn(msg)\n"
     ]
    },
    {
     "name": "stdout",
     "output_type": "stream",
     "text": [
      "總共花費 250.09647154808044 秒\n"
     ]
    }
   ],
   "source": [
    "from gensim.models import word2vec\n",
    "import time\n",
    "\n",
    "start_time = time.time()\n",
    "\n",
    "# Settings\n",
    "seed = 1                # seed： 亂數種子\n",
    "sg = 1                  # sg： Word2Vec 有兩種算法，CBOW 以及 Skip-gram\n",
    "window_size = 3        # window_size： 周圍詞彙要看多少範圍\n",
    "vector_size = 20        # size： 轉成向量的維度\n",
    "min_count = 10           # min_count： 詞頻少於 min_count 之詞彙不會參與訓練\n",
    "workers = 8             # workers： 訓練的並行數量\n",
    "epochs = 100             # iter： 訓練的迭代次數\n",
    "batch_words = 10000   # batch_words：每次給予多少詞彙量訓練\n",
    "\n",
    "\n",
    "# 訓練資料\n",
    "train_data = word2vec.LineSentence('./word2vec_data/icook_CookingStep_seg.txt')    # CookingStep\n",
    "# train_data = word2vec.LineSentence('./word2vec_data/icook_Ingredient_seg.txt')  # Ingredient\n",
    "# train_data = word2vec.LineSentence('./word2vec_data/icook_Description_seg.txt')    # Description\n",
    "\n",
    "\n",
    " \n",
    "\n",
    "model = word2vec.Word2Vec(\n",
    "    train_data,\n",
    "    min_count=min_count,\n",
    "    vector_size=vector_size,\n",
    "    workers=workers,\n",
    "    epochs=epochs,\n",
    "    window=window_size,\n",
    "    sg=sg,\n",
    "    seed=seed,\n",
    "    batch_words=batch_words\n",
    ")\n",
    "\n",
    "end_time = time.time()\n",
    "print('總共花費 {} 秒'.format(end_time - start_time))"
   ]
  },
  {
   "cell_type": "code",
   "execution_count": 2,
   "id": "3d77c652",
   "metadata": {},
   "outputs": [
    {
     "data": {
      "text/plain": [
       "<gensim.models.word2vec.Word2Vec at 0x1ec351968c8>"
      ]
     },
     "execution_count": 2,
     "metadata": {},
     "output_type": "execute_result"
    }
   ],
   "source": [
    "model"
   ]
  },
  {
   "cell_type": "code",
   "execution_count": 3,
   "id": "c9bbfd15",
   "metadata": {},
   "outputs": [
    {
     "data": {
      "text/plain": [
       "2019766"
      ]
     },
     "execution_count": 3,
     "metadata": {},
     "output_type": "execute_result"
    }
   ],
   "source": [
    "model.corpus_total_words"
   ]
  },
  {
   "cell_type": "code",
   "execution_count": 7,
   "id": "f990de46",
   "metadata": {},
   "outputs": [
    {
     "data": {
      "text/plain": [
       "[('蕃茄', 0.9696077704429626),\n",
       " ('聖女', 0.9029524326324463),\n",
       " ('洋菇', 0.9028424024581909),\n",
       " ('磨菇', 0.9012870788574219),\n",
       " ('甜椒', 0.8999719619750977),\n",
       " ('蘑菇', 0.8932895660400391),\n",
       " ('西洋', 0.8720659017562866),\n",
       " ('芹', 0.8705599904060364),\n",
       " ('彩椒', 0.8661943078041077),\n",
       " ('紅椒', 0.8541717529296875)]"
      ]
     },
     "execution_count": 7,
     "metadata": {},
     "output_type": "execute_result"
    }
   ],
   "source": [
    "model.wv.most_similar(\"番茄\", topn=10)"
   ]
  },
  {
   "cell_type": "code",
   "execution_count": 5,
   "id": "1776c408",
   "metadata": {},
   "outputs": [],
   "source": [
    "# # Model 儲存CookingStep\n",
    "# model.save('./word2vec_data/icook_CookingStep_word2vec.model')\n",
    "\n",
    "# # Model 儲存 Description\n",
    "# model.save('./word2vec_data/icook_Description_word2vec.model')\n",
    "\n",
    "# Model 儲存 Ingredient\n",
    "model.save('./word2vec_data/icook_Ingredient_word2vec.model')"
   ]
  },
  {
   "cell_type": "code",
   "execution_count": null,
   "id": "3e1be04e",
   "metadata": {},
   "outputs": [],
   "source": []
  }
 ],
 "metadata": {
  "kernelspec": {
   "display_name": "Python 3",
   "language": "python",
   "name": "python3"
  },
  "language_info": {
   "codemirror_mode": {
    "name": "ipython",
    "version": 3
   },
   "file_extension": ".py",
   "mimetype": "text/x-python",
   "name": "python",
   "nbconvert_exporter": "python",
   "pygments_lexer": "ipython3",
   "version": "3.7.4"
  }
 },
 "nbformat": 4,
 "nbformat_minor": 5
}
